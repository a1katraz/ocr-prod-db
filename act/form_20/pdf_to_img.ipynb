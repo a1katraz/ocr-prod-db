{
 "cells": [
  {
   "cell_type": "code",
   "execution_count": 13,
   "metadata": {},
   "outputs": [
    {
     "name": "stdout",
     "output_type": "stream",
     "text": [
      "Processing Form 20 File : 238_20.PDF\n",
      "abc\n"
     ]
    }
   ],
   "source": [
    "import PyPDF2\n",
    "from PIL import Image\n",
    "from google.cloud import storage\n",
    "import os\n",
    "import re\n",
    "from pathlib import Path\n",
    "\n",
    "if __name__ == '__main__':\n",
    "\n",
    "    storage_client = storage.Client.from_service_account_json('/home/vishalvivek8/key.json')\n",
    "    bucket = storage_client.bucket('raw_images_ocr')\n",
    "    blobs = bucket.list_blobs(prefix='docs/form_20/')\n",
    "    \n",
    "    cwd = os.getcwd()\n",
    "    for blob in blobs:\n",
    "        if(blob.name == 'docs/form_20/' or 'prcs_cmpl' in blob.name):\n",
    "            continue\n",
    "\n",
    "        print ('Processing Form 20 File : ' + blob.name.replace('docs/form_20/', ''))\n",
    "        blob.download_to_filename(str(Path(cwd).parent.parent) + '/docs/form_20/' + blob.name.replace('docs/form_20/', ''))\n",
    "        filepath = str(Path(cwd).parent.parent) + '/docs/form_20/' + blob.name.replace('docs/form_20/', '')\n",
    "\n",
    "        input1 = PyPDF2.PdfFileReader(open(filepath, 'rb'))     \n",
    "        file_names = list()\n",
    "        \n",
    "        for x in range(0, input1.getNumPages()):        \n",
    "            page0 = input1.getPage(x)\n",
    "            xObject = page0['/Resources']['/XObject'].getObject()\n",
    "            for obj in xObject:\n",
    "                if xObject[obj]['/Subtype'] == '/Image':\n",
    "                    size = (xObject[obj]['/Width'], xObject[obj]['/Height'])\n",
    "                    if xObject[obj]['/Filter'] == '/DCTDecode':         #DCTDecode implementation is lsightly different\n",
    "                        data = xObject[obj]._data\n",
    "                    else:\n",
    "                        data = xObject[obj].getData()\n",
    "                    \n",
    "                    if xObject[obj]['/ColorSpace'] == '/DeviceRGB':\n",
    "                        mode = 'RGB'\n",
    "                    else:\n",
    "                        mode = 'P'\n",
    "                    \n",
    "                    if(obj[1:] in file_names):\n",
    "                        last_name = file_names[-1]\n",
    "                        last_cnt = int(re.search(r'\\d+', last_name).group(0))\n",
    "                        last_cnt += 1\n",
    "                        name = re.search(r'[a-zA-Z]+', last_name).group(0) + str(last_cnt)\n",
    "                    else:\n",
    "                        name = obj[1:]\n",
    "                    file_names.append(name)\n",
    "                    \n",
    "                    if xObject[obj]['/Filter'] == '/FlateDecode':\n",
    "                        img = Image.frombytes(mode, size, data)\n",
    "                        img.save(str(Path(cwd).parent.parent) + '/images/form_20/' + name + '.png')\n",
    "                    elif xObject[obj]['/Filter'] == '/DCTDecode':\n",
    "                        # This is now a simple file being opened instead of an image file and we are writing a bytestrem to it\n",
    "                        img = open(str(Path(cwd).parent.parent) + '/images/form_20/' + name + \".jpg\", \"wb\")\n",
    "                        img.write(data)\n",
    "                        img.close()\n",
    "                        #img = Image.open(str(Path(cwd).parent.parent) + '/images/form_20/' + name + \".jpg\", 'r')\n",
    "                        #img.save(str(Path(cwd).parent.parent) + '/images/form_20/' + name + \".png\")\n",
    "                        #os.remove(str(Path(cwd).parent.parent) + '/images/form_20/' + name + \".jpg\")\n",
    "                    elif xObject[obj]['/Filter'] == '/JPXDecode':\n",
    "                        img = Image.open(str(Path(cwd).parent.parent) + '/images/form_20/' + name + \".jp2\", \"wb\")\n",
    "                        img.write(data)\n",
    "                        img.close()\n",
    "    \n",
    "    ## Images created - start processing\n",
    "    print('abc')"
   ]
  },
  {
   "cell_type": "code",
   "execution_count": null,
   "metadata": {},
   "outputs": [],
   "source": []
  }
 ],
 "metadata": {
  "kernelspec": {
   "display_name": "python36",
   "language": "python",
   "name": "python36"
  },
  "language_info": {
   "codemirror_mode": {
    "name": "ipython",
    "version": 3
   },
   "file_extension": ".py",
   "mimetype": "text/x-python",
   "name": "python",
   "nbconvert_exporter": "python",
   "pygments_lexer": "ipython3",
   "version": "3.6.10"
  }
 },
 "nbformat": 4,
 "nbformat_minor": 4
}
