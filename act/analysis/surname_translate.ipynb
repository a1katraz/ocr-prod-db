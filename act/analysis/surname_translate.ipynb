{
 "cells": [
  {
   "cell_type": "code",
   "execution_count": 22,
   "metadata": {},
   "outputs": [
    {
     "name": "stdout",
     "output_type": "stream",
     "text": [
      "4743\r"
     ]
    }
   ],
   "source": [
    "import pandas as pd\n",
    "import requests\n",
    "import uuid\n",
    "import json\n",
    "\n",
    "def make_connection(language, fromScript, toScript):\n",
    "    subscription_key = '1212d7d306fb4388a534e586691d0b57'\n",
    "    endpoint = 'https://api.cognitive.microsofttranslator.com'\n",
    "    path = '/transliterate?api-version=3.0'\n",
    "    params = '&language='+language+'&fromScript='+fromScript+'&toScript='+toScript\n",
    "    constructed_url = endpoint + path + params\n",
    "    \n",
    "    headers = {\n",
    "    'Ocp-Apim-Subscription-Key': subscription_key,\n",
    "    'Content-type': 'application/json',\n",
    "    'X-ClientTraceId': str(uuid.uuid4())\n",
    "    }\n",
    "    \n",
    "    return constructed_url, headers\n",
    "\n",
    "def transliterate(url, headers, array):\n",
    "    body_json = []\n",
    "    for items in array:\n",
    "        dict = {'Text':items}\n",
    "        body_json.append(dict)\n",
    "\n",
    "    request = requests.post(url, headers=headers, json=body_json)\n",
    "    response = request.json()\n",
    "    \n",
    "    result = list() \n",
    "    for item in response:\n",
    "        result.append(item['text'].title())\n",
    "    \n",
    "    return result\n",
    "\n",
    "if __name__ == '__main__':\n",
    "    df = pd.read_csv('surnames.csv', sep=',', na_values='')\n",
    "    url, headers = make_connection(language='hi', fromScript='deva', toScript='latn')\n",
    "    sur_eng = list()\n",
    "    tmp = list()\n",
    "    for idx, row in df.iterrows():\n",
    "        print(idx, end='\\r', flush=True)\n",
    "        if(idx % 10 == 0 and len(tmp) != 0):\n",
    "            sur_eng.extend(transliterate(url, headers, tmp))\n",
    "            tmp = list()\n",
    "            tmp.append(row[2])\n",
    "        else:\n",
    "            tmp.append(row[2])\n",
    "\n",
    "    if(len(tmp) != 0):        \n",
    "        sur_eng.extend(transliterate(url, headers, tmp))\n",
    "    \n",
    "    df['surname_eng'] = sur_eng\n",
    "    \n",
    "    df.to_csv(sep=',', path_or_buf='surnames_eng.csv', header=True, index=False)"
   ]
  },
  {
   "cell_type": "code",
   "execution_count": null,
   "metadata": {},
   "outputs": [],
   "source": []
  }
 ],
 "metadata": {
  "kernelspec": {
   "display_name": "python36",
   "language": "python",
   "name": "python36"
  },
  "language_info": {
   "codemirror_mode": {
    "name": "ipython",
    "version": 3
   },
   "file_extension": ".py",
   "mimetype": "text/x-python",
   "name": "python",
   "nbconvert_exporter": "python",
   "pygments_lexer": "ipython3",
   "version": "3.6.10"
  }
 },
 "nbformat": 4,
 "nbformat_minor": 4
}
