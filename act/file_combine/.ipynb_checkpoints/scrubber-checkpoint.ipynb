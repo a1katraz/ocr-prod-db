{
 "cells": [
  {
   "cell_type": "code",
   "execution_count": 17,
   "metadata": {},
   "outputs": [
    {
     "name": "stdout",
     "output_type": "stream",
     "text": [
      "Reading File:FinalRoll_ACNo_238PartNo_1.csv\n",
      "Reading File:FinalRoll_ACNo_238PartNo_2.csv\n",
      "Reading File:FinalRoll_ACNo_238PartNo_3.csv\n",
      "Reading File:FinalRoll_ACNo_238PartNo_4.csv\n",
      "Reading File:FinalRoll_ACNo_238PartNo_5.csv\n",
      "Reading File:FinalRoll_ACNo_238PartNo_6.csv\n",
      "Reading File:FinalRoll_ACNo_238PartNo_7.csv\n",
      "Reading File:FinalRoll_ACNo_238PartNo_8.csv\n",
      "Reading File:FinalRoll_ACNo_238PartNo_9.csv\n",
      "Reading File:FinalRoll_ACNo_238PartNo_10.csv\n",
      "Reading File:FinalRoll_ACNo_238PartNo_11.csv\n",
      "Reading File:FinalRoll_ACNo_238PartNo_12.csv\n",
      "Reading File:FinalRoll_ACNo_238PartNo_13.csv\n",
      "Reading File:FinalRoll_ACNo_238PartNo_14.csv\n",
      "Reading File:FinalRoll_ACNo_238PartNo_15.csv\n",
      "Reading File:FinalRoll_ACNo_238PartNo_16.csv\n"
     ]
    },
    {
     "name": "stderr",
     "output_type": "stream",
     "text": [
      "b'Skipping line 544: expected 24 fields, saw 26\\n'\n",
      "b'Skipping line 73: expected 24 fields, saw 25\\nSkipping line 86: expected 24 fields, saw 25\\n'\n",
      "b'Skipping line 328: expected 24 fields, saw 25\\n'\n",
      "b'Skipping line 103: expected 24 fields, saw 25\\nSkipping line 334: expected 24 fields, saw 26\\n'\n"
     ]
    },
    {
     "name": "stdout",
     "output_type": "stream",
     "text": [
      "Reading File:FinalRoll_ACNo_238PartNo_17.csv\n",
      "Reading File:FinalRoll_ACNo_238PartNo_18.csv\n",
      "Reading File:FinalRoll_ACNo_238PartNo_19.csv\n",
      "Reading File:FinalRoll_ACNo_238PartNo_20.csv\n",
      "Reading File:FinalRoll_ACNo_238PartNo_21.csv\n",
      "Reading File:FinalRoll_ACNo_238PartNo_22.csv\n"
     ]
    },
    {
     "name": "stderr",
     "output_type": "stream",
     "text": [
      "b'Skipping line 850: expected 24 fields, saw 25\\n'\n",
      "b'Skipping line 95: expected 24 fields, saw 26\\n'\n",
      "b'Skipping line 927: expected 24 fields, saw 25\\n'\n",
      "b'Skipping line 328: expected 24 fields, saw 25\\nSkipping line 983: expected 24 fields, saw 26\\n'\n",
      "b'Skipping line 567: expected 24 fields, saw 25\\n'\n"
     ]
    },
    {
     "name": "stdout",
     "output_type": "stream",
     "text": [
      "Reading File:FinalRoll_ACNo_238PartNo_23.csv\n",
      "Reading File:FinalRoll_ACNo_238PartNo_24.csv\n",
      "Reading File:FinalRoll_ACNo_238PartNo_25.csv\n",
      "Reading File:FinalRoll_ACNo_238PartNo_26.csv\n",
      "Reading File:FinalRoll_ACNo_238PartNo_27.csv\n"
     ]
    },
    {
     "name": "stderr",
     "output_type": "stream",
     "text": [
      "b'Skipping line 118: expected 24 fields, saw 25\\nSkipping line 978: expected 24 fields, saw 25\\n'\n",
      "b'Skipping line 328: expected 24 fields, saw 25\\n'\n",
      "b'Skipping line 917: expected 24 fields, saw 25\\n'\n"
     ]
    },
    {
     "name": "stdout",
     "output_type": "stream",
     "text": [
      "Reading File:FinalRoll_ACNo_238PartNo_28.csv\n",
      "Reading File:FinalRoll_ACNo_238PartNo_29.csv\n",
      "Reading File:FinalRoll_ACNo_238PartNo_30.csv\n",
      "Reading File:FinalRoll_ACNo_238PartNo_31.csv\n",
      "Reading File:FinalRoll_ACNo_238PartNo_32.csv\n"
     ]
    },
    {
     "name": "stderr",
     "output_type": "stream",
     "text": [
      "b'Skipping line 724: expected 24 fields, saw 25\\n'\n",
      "b'Skipping line 524: expected 24 fields, saw 25\\nSkipping line 623: expected 24 fields, saw 25\\n'\n"
     ]
    },
    {
     "name": "stdout",
     "output_type": "stream",
     "text": [
      "Reading File:FinalRoll_ACNo_238PartNo_33.csv\n",
      "Reading File:FinalRoll_ACNo_238PartNo_34.csv\n",
      "Reading File:FinalRoll_ACNo_238PartNo_35.csv\n",
      "Reading File:FinalRoll_ACNo_238PartNo_36.csv\n",
      "Reading File:FinalRoll_ACNo_238PartNo_37.csv\n"
     ]
    },
    {
     "name": "stderr",
     "output_type": "stream",
     "text": [
      "b'Skipping line 791: expected 24 fields, saw 25\\n'\n",
      "b'Skipping line 828: expected 24 fields, saw 25\\n'\n",
      "b'Skipping line 111: expected 24 fields, saw 25\\n'\n"
     ]
    },
    {
     "name": "stdout",
     "output_type": "stream",
     "text": [
      "Reading File:FinalRoll_ACNo_238PartNo_38.csv\n",
      "Reading File:FinalRoll_ACNo_238PartNo_39.csv\n",
      "Reading File:FinalRoll_ACNo_238PartNo_40.csv\n",
      "Reading File:FinalRoll_ACNo_238PartNo_41.csv\n",
      "Reading File:FinalRoll_ACNo_238PartNo_42.csv\n",
      "Reading File:FinalRoll_ACNo_238PartNo_43.csv\n",
      "Reading File:FinalRoll_ACNo_238PartNo_44.csv\n",
      "Reading File:FinalRoll_ACNo_238PartNo_45.csv\n",
      "Reading File:FinalRoll_ACNo_238PartNo_46.csv\n",
      "Reading File:FinalRoll_ACNo_238PartNo_47.csv\n",
      "Reading File:FinalRoll_ACNo_238PartNo_48.csv\n"
     ]
    },
    {
     "name": "stderr",
     "output_type": "stream",
     "text": [
      "b'Skipping line 1009: expected 24 fields, saw 25\\n'\n",
      "b'Skipping line 824: expected 24 fields, saw 25\\n'\n",
      "b'Skipping line 605: expected 24 fields, saw 25\\n'\n"
     ]
    },
    {
     "name": "stdout",
     "output_type": "stream",
     "text": [
      "Reading File:FinalRoll_ACNo_238PartNo_49.csv\n",
      "Reading File:FinalRoll_ACNo_238PartNo_50.csv\n",
      "Reading File:FinalRoll_ACNo_238PartNo_51.csv\n",
      "Reading File:FinalRoll_ACNo_238PartNo_52.csv\n",
      "Reading File:FinalRoll_ACNo_238PartNo_53.csv\n",
      "Reading File:FinalRoll_ACNo_238PartNo_54.csv\n"
     ]
    },
    {
     "name": "stderr",
     "output_type": "stream",
     "text": [
      "b'Skipping line 178: expected 24 fields, saw 25\\n'\n",
      "b'Skipping line 912: expected 24 fields, saw 25\\n'\n"
     ]
    },
    {
     "name": "stdout",
     "output_type": "stream",
     "text": [
      "Reading File:FinalRoll_ACNo_238PartNo_55.csv\n",
      "Reading File:FinalRoll_ACNo_238PartNo_56.csv\n",
      "Reading File:FinalRoll_ACNo_238PartNo_57.csv\n",
      "Reading File:FinalRoll_ACNo_238PartNo_58.csv\n",
      "Reading File:FinalRoll_ACNo_238PartNo_59.csv\n"
     ]
    },
    {
     "name": "stderr",
     "output_type": "stream",
     "text": [
      "b'Skipping line 395: expected 24 fields, saw 25\\n'\n",
      "b'Skipping line 663: expected 24 fields, saw 25\\n'\n",
      "b'Skipping line 622: expected 24 fields, saw 26\\n'\n"
     ]
    },
    {
     "name": "stdout",
     "output_type": "stream",
     "text": [
      "Reading File:FinalRoll_ACNo_238PartNo_60.csv\n",
      "Reading File:FinalRoll_ACNo_238PartNo_61.csv\n",
      "Reading File:FinalRoll_ACNo_238PartNo_62.csv\n",
      "Reading File:FinalRoll_ACNo_238PartNo_63.csv\n",
      "Reading File:FinalRoll_ACNo_238PartNo_64.csv\n",
      "Reading File:FinalRoll_ACNo_238PartNo_65.csv\n"
     ]
    },
    {
     "name": "stderr",
     "output_type": "stream",
     "text": [
      "b'Skipping line 720: expected 24 fields, saw 25\\n'\n",
      "b'Skipping line 116: expected 24 fields, saw 25\\n'\n",
      "b'Skipping line 466: expected 24 fields, saw 25\\n'\n"
     ]
    },
    {
     "name": "stdout",
     "output_type": "stream",
     "text": [
      "Reading File:FinalRoll_ACNo_238PartNo_66.csv\n",
      "Reading File:FinalRoll_ACNo_238PartNo_67.csv\n",
      "Reading File:FinalRoll_ACNo_238PartNo_68.csv\n",
      "Reading File:FinalRoll_ACNo_238PartNo_69.csv\n",
      "Reading File:FinalRoll_ACNo_238PartNo_70.csv\n",
      "Reading File:FinalRoll_ACNo_238PartNo_71.csv\n"
     ]
    },
    {
     "name": "stderr",
     "output_type": "stream",
     "text": [
      "b'Skipping line 87: expected 24 fields, saw 25\\n'\n",
      "b'Skipping line 588: expected 24 fields, saw 25\\n'\n"
     ]
    },
    {
     "name": "stdout",
     "output_type": "stream",
     "text": [
      "Reading File:FinalRoll_ACNo_238PartNo_72.csv\n",
      "Reading File:FinalRoll_ACNo_238PartNo_73.csv\n",
      "Reading File:FinalRoll_ACNo_238PartNo_74.csv\n",
      "Reading File:FinalRoll_ACNo_238PartNo_75.csv\n",
      "Reading File:FinalRoll_ACNo_238PartNo_76.csv\n",
      "Reading File:FinalRoll_ACNo_238PartNo_77.csv\n"
     ]
    },
    {
     "name": "stderr",
     "output_type": "stream",
     "text": [
      "b'Skipping line 210: expected 24 fields, saw 25\\n'\n",
      "b'Skipping line 199: expected 24 fields, saw 26\\n'\n"
     ]
    },
    {
     "name": "stdout",
     "output_type": "stream",
     "text": [
      "Reading File:FinalRoll_ACNo_238PartNo_78.csv\n",
      "Reading File:FinalRoll_ACNo_238PartNo_79.csv\n",
      "Reading File:FinalRoll_ACNo_238PartNo_80.csv\n",
      "Reading File:FinalRoll_ACNo_238PartNo_81.csv\n",
      "Reading File:FinalRoll_ACNo_238PartNo_82.csv\n",
      "Reading File:FinalRoll_ACNo_238PartNo_83.csv\n",
      "Reading File:FinalRoll_ACNo_238PartNo_84.csv\n",
      "Reading File:FinalRoll_ACNo_238PartNo_85.csv\n",
      "Reading File:FinalRoll_ACNo_238PartNo_86.csv\n",
      "Reading File:FinalRoll_ACNo_238PartNo_87.csv\n",
      "Reading File:FinalRoll_ACNo_238PartNo_88.csv\n"
     ]
    },
    {
     "name": "stderr",
     "output_type": "stream",
     "text": [
      "b'Skipping line 953: expected 24 fields, saw 26\\n'\n"
     ]
    },
    {
     "name": "stdout",
     "output_type": "stream",
     "text": [
      "Reading File:FinalRoll_ACNo_238PartNo_89.csv\n",
      "Reading File:FinalRoll_ACNo_238PartNo_90.csv\n",
      "Reading File:FinalRoll_ACNo_238PartNo_91.csv\n",
      "Reading File:FinalRoll_ACNo_238PartNo_92.csv\n",
      "Reading File:FinalRoll_ACNo_238PartNo_93.csv\n",
      "Reading File:FinalRoll_ACNo_238PartNo_94.csv\n",
      "Reading File:FinalRoll_ACNo_238PartNo_95.csv\n",
      "Reading File:FinalRoll_ACNo_238PartNo_96.csv\n",
      "Reading File:FinalRoll_ACNo_238PartNo_97.csv\n",
      "Reading File:FinalRoll_ACNo_238PartNo_98.csv\n",
      "Reading File:FinalRoll_ACNo_238PartNo_99.csv\n"
     ]
    },
    {
     "name": "stderr",
     "output_type": "stream",
     "text": [
      "b'Skipping line 656: expected 24 fields, saw 25\\n'\n",
      "b'Skipping line 896: expected 24 fields, saw 26\\n'\n"
     ]
    },
    {
     "name": "stdout",
     "output_type": "stream",
     "text": [
      "Reading File:FinalRoll_ACNo_238PartNo_100.csv\n",
      "Reading File:FinalRoll_ACNo_238PartNo_101.csv\n",
      "Reading File:FinalRoll_ACNo_238PartNo_102.csv\n",
      "Reading File:FinalRoll_ACNo_238PartNo_103.csv\n",
      "Reading File:FinalRoll_ACNo_238PartNo_104.csv\n",
      "Reading File:FinalRoll_ACNo_238PartNo_105.csv\n",
      "Reading File:FinalRoll_ACNo_238PartNo_106.csv\n",
      "Reading File:FinalRoll_ACNo_238PartNo_107.csv\n",
      "Reading File:FinalRoll_ACNo_238PartNo_108.csv\n",
      "Reading File:FinalRoll_ACNo_238PartNo_109.csv\n"
     ]
    },
    {
     "name": "stderr",
     "output_type": "stream",
     "text": [
      "b'Skipping line 125: expected 24 fields, saw 25\\n'\n"
     ]
    },
    {
     "name": "stdout",
     "output_type": "stream",
     "text": [
      "Reading File:FinalRoll_ACNo_238PartNo_110.csv\n",
      "Reading File:FinalRoll_ACNo_238PartNo_111.csv\n",
      "Reading File:FinalRoll_ACNo_238PartNo_112.csv\n",
      "Reading File:FinalRoll_ACNo_238PartNo_113.csv\n",
      "Reading File:FinalRoll_ACNo_238PartNo_114.csv\n",
      "Reading File:FinalRoll_ACNo_238PartNo_115.csv\n",
      "Reading File:FinalRoll_ACNo_238PartNo_116.csv\n",
      "Reading File:FinalRoll_ACNo_238PartNo_117.csv\n",
      "Reading File:FinalRoll_ACNo_238PartNo_118.csv\n",
      "Reading File:FinalRoll_ACNo_238PartNo_119.csv\n",
      "Reading File:FinalRoll_ACNo_238PartNo_120.csv\n"
     ]
    },
    {
     "name": "stderr",
     "output_type": "stream",
     "text": [
      "b'Skipping line 282: expected 24 fields, saw 25\\n'\n",
      "b'Skipping line 249: expected 24 fields, saw 26\\nSkipping line 1257: expected 24 fields, saw 25\\n'\n"
     ]
    },
    {
     "name": "stdout",
     "output_type": "stream",
     "text": [
      "Reading File:FinalRoll_ACNo_238PartNo_121.csv\n",
      "Reading File:FinalRoll_ACNo_238PartNo_122.csv\n",
      "Reading File:FinalRoll_ACNo_238PartNo_123.csv\n",
      "Reading File:FinalRoll_ACNo_238PartNo_124.csv\n",
      "Reading File:FinalRoll_ACNo_238PartNo_125.csv\n",
      "Reading File:FinalRoll_ACNo_238PartNo_126.csv\n",
      "Reading File:FinalRoll_ACNo_238PartNo_127.csv\n",
      "Reading File:FinalRoll_ACNo_238PartNo_128.csv\n",
      "Reading File:FinalRoll_ACNo_238PartNo_129.csv\n",
      "Reading File:FinalRoll_ACNo_238PartNo_130.csv\n",
      "Reading File:FinalRoll_ACNo_238PartNo_131.csv\n",
      "Reading File:FinalRoll_ACNo_238PartNo_132.csv\n",
      "Reading File:FinalRoll_ACNo_238PartNo_133.csv\n",
      "Reading File:FinalRoll_ACNo_238PartNo_134.csv\n",
      "Reading File:FinalRoll_ACNo_238PartNo_135.csv\n",
      "Reading File:FinalRoll_ACNo_238PartNo_136.csv\n",
      "Reading File:FinalRoll_ACNo_238PartNo_137.csv\n"
     ]
    },
    {
     "name": "stderr",
     "output_type": "stream",
     "text": [
      "b'Skipping line 437: expected 24 fields, saw 25\\n'\n",
      "b'Skipping line 543: expected 24 fields, saw 25\\n'\n"
     ]
    },
    {
     "name": "stdout",
     "output_type": "stream",
     "text": [
      "Reading File:FinalRoll_ACNo_238PartNo_138.csv\n",
      "Reading File:FinalRoll_ACNo_238PartNo_139.csv\n",
      "Reading File:FinalRoll_ACNo_238PartNo_140.csv\n",
      "Reading File:FinalRoll_ACNo_238PartNo_141.csv\n",
      "Reading File:FinalRoll_ACNo_238PartNo_142.csv\n",
      "Reading File:FinalRoll_ACNo_238PartNo_143.csv\n",
      "Reading File:FinalRoll_ACNo_238PartNo_144.csv\n",
      "Reading File:FinalRoll_ACNo_238PartNo_145.csv\n",
      "Reading File:FinalRoll_ACNo_238PartNo_146.csv\n",
      "Reading File:FinalRoll_ACNo_238PartNo_147.csv\n",
      "Reading File:FinalRoll_ACNo_238PartNo_148.csv\n"
     ]
    },
    {
     "name": "stderr",
     "output_type": "stream",
     "text": [
      "b'Skipping line 516: expected 24 fields, saw 25\\n'\n"
     ]
    },
    {
     "name": "stdout",
     "output_type": "stream",
     "text": [
      "Reading File:FinalRoll_ACNo_238PartNo_149.csv\n",
      "Reading File:FinalRoll_ACNo_238PartNo_150.csv\n",
      "Reading File:FinalRoll_ACNo_238PartNo_151.csv\n",
      "Reading File:FinalRoll_ACNo_238PartNo_152.csv\n",
      "Reading File:FinalRoll_ACNo_238PartNo_153.csv\n",
      "Reading File:FinalRoll_ACNo_238PartNo_154.csv\n",
      "Reading File:FinalRoll_ACNo_238PartNo_155.csv\n",
      "Reading File:FinalRoll_ACNo_238PartNo_156.csv\n",
      "Reading File:FinalRoll_ACNo_238PartNo_157.csv\n",
      "Reading File:FinalRoll_ACNo_238PartNo_158.csv\n",
      "Reading File:FinalRoll_ACNo_238PartNo_159.csv\n",
      "Reading File:FinalRoll_ACNo_238PartNo_160.csv\n",
      "Reading File:FinalRoll_ACNo_238PartNo_161.csv\n",
      "Reading File:FinalRoll_ACNo_238PartNo_162.csv\n",
      "Reading File:FinalRoll_ACNo_238PartNo_163.csv\n",
      "Reading File:FinalRoll_ACNo_238PartNo_164.csv\n",
      "Reading File:FinalRoll_ACNo_238PartNo_165.csv\n",
      "Reading File:FinalRoll_ACNo_238PartNo_166.csv\n",
      "Reading File:FinalRoll_ACNo_238PartNo_167.csv\n",
      "Reading File:FinalRoll_ACNo_238PartNo_168.csv\n",
      "Reading File:FinalRoll_ACNo_238PartNo_169.csv\n",
      "Reading File:FinalRoll_ACNo_238PartNo_170.csv\n",
      "Reading File:FinalRoll_ACNo_238PartNo_171.csv\n"
     ]
    },
    {
     "name": "stderr",
     "output_type": "stream",
     "text": [
      "b'Skipping line 190: expected 24 fields, saw 25\\n'\n",
      "b'Skipping line 381: expected 24 fields, saw 25\\n'\n"
     ]
    },
    {
     "name": "stdout",
     "output_type": "stream",
     "text": [
      "Reading File:FinalRoll_ACNo_238PartNo_172.csv\n",
      "Reading File:FinalRoll_ACNo_238PartNo_173.csv\n",
      "Reading File:FinalRoll_ACNo_238PartNo_174.csv\n",
      "Reading File:FinalRoll_ACNo_238PartNo_175.csv\n",
      "Reading File:FinalRoll_ACNo_238PartNo_176.csv\n"
     ]
    },
    {
     "name": "stderr",
     "output_type": "stream",
     "text": [
      "b'Skipping line 114: expected 24 fields, saw 26\\nSkipping line 137: expected 24 fields, saw 25\\n'\n"
     ]
    },
    {
     "name": "stdout",
     "output_type": "stream",
     "text": [
      "Reading File:FinalRoll_ACNo_238PartNo_177.csv\n",
      "Reading File:FinalRoll_ACNo_238PartNo_178.csv\n",
      "Reading File:FinalRoll_ACNo_238PartNo_179.csv\n",
      "Reading File:FinalRoll_ACNo_238PartNo_180.csv\n",
      "Reading File:FinalRoll_ACNo_238PartNo_181.csv\n",
      "Reading File:FinalRoll_ACNo_238PartNo_182.csv\n",
      "Reading File:FinalRoll_ACNo_238PartNo_183.csv\n",
      "Reading File:FinalRoll_ACNo_238PartNo_184.csv\n",
      "Reading File:FinalRoll_ACNo_238PartNo_185.csv\n",
      "Reading File:FinalRoll_ACNo_238PartNo_186.csv\n",
      "Reading File:FinalRoll_ACNo_238PartNo_187.csv\n",
      "Reading File:FinalRoll_ACNo_238PartNo_188.csv\n",
      "Reading File:FinalRoll_ACNo_238PartNo_189.csv\n",
      "Reading File:FinalRoll_ACNo_238PartNo_190.csv\n",
      "Reading File:FinalRoll_ACNo_238PartNo_191.csv\n"
     ]
    },
    {
     "name": "stderr",
     "output_type": "stream",
     "text": [
      "b'Skipping line 946: expected 24 fields, saw 26\\n'\n",
      "b'Skipping line 192: expected 24 fields, saw 25\\n'\n",
      "b'Skipping line 634: expected 24 fields, saw 26\\n'\n"
     ]
    },
    {
     "name": "stdout",
     "output_type": "stream",
     "text": [
      "Reading File:FinalRoll_ACNo_238PartNo_192.csv\n",
      "Reading File:FinalRoll_ACNo_238PartNo_193.csv\n",
      "Reading File:FinalRoll_ACNo_238PartNo_194.csv\n",
      "Reading File:FinalRoll_ACNo_238PartNo_195.csv\n",
      "Reading File:FinalRoll_ACNo_238PartNo_196.csv\n",
      "Reading File:FinalRoll_ACNo_238PartNo_197.csv\n",
      "Reading File:FinalRoll_ACNo_238PartNo_198.csv\n",
      "Reading File:FinalRoll_ACNo_238PartNo_199.csv\n",
      "Reading File:FinalRoll_ACNo_238PartNo_200.csv\n",
      "Reading File:FinalRoll_ACNo_238PartNo_201.csv\n"
     ]
    },
    {
     "name": "stderr",
     "output_type": "stream",
     "text": [
      "b'Skipping line 592: expected 24 fields, saw 25\\nSkipping line 727: expected 24 fields, saw 26\\n'\n",
      "b'Skipping line 1120: expected 24 fields, saw 25\\n'\n"
     ]
    },
    {
     "name": "stdout",
     "output_type": "stream",
     "text": [
      "Reading File:FinalRoll_ACNo_238PartNo_202.csv\n",
      "Reading File:FinalRoll_ACNo_238PartNo_203.csv\n",
      "Reading File:FinalRoll_ACNo_238PartNo_204.csv\n",
      "Reading File:FinalRoll_ACNo_238PartNo_205.csv\n",
      "Reading File:FinalRoll_ACNo_238PartNo_206.csv\n",
      "Reading File:FinalRoll_ACNo_238PartNo_207.csv\n"
     ]
    },
    {
     "name": "stderr",
     "output_type": "stream",
     "text": [
      "b'Skipping line 630: expected 24 fields, saw 25\\n'\n"
     ]
    },
    {
     "name": "stdout",
     "output_type": "stream",
     "text": [
      "Reading File:FinalRoll_ACNo_238PartNo_208.csv\n",
      "Reading File:FinalRoll_ACNo_238PartNo_209.csv\n",
      "Reading File:FinalRoll_ACNo_238PartNo_210.csv\n",
      "Reading File:FinalRoll_ACNo_238PartNo_211.csv\n",
      "Reading File:FinalRoll_ACNo_238PartNo_212.csv\n",
      "Reading File:FinalRoll_ACNo_238PartNo_213.csv\n"
     ]
    },
    {
     "name": "stderr",
     "output_type": "stream",
     "text": [
      "b'Skipping line 535: expected 24 fields, saw 25\\nSkipping line 635: expected 24 fields, saw 26\\n'\n",
      "b'Skipping line 260: expected 24 fields, saw 25\\n'\n"
     ]
    },
    {
     "name": "stdout",
     "output_type": "stream",
     "text": [
      "Reading File:FinalRoll_ACNo_238PartNo_214.csv\n",
      "Reading File:FinalRoll_ACNo_238PartNo_215.csv\n",
      "Reading File:FinalRoll_ACNo_238PartNo_216.csv\n",
      "Reading File:FinalRoll_ACNo_238PartNo_217.csv\n",
      "Reading File:FinalRoll_ACNo_238PartNo_218.csv\n"
     ]
    },
    {
     "name": "stderr",
     "output_type": "stream",
     "text": [
      "b'Skipping line 1128: expected 24 fields, saw 25\\n'\n",
      "b'Skipping line 411: expected 24 fields, saw 25\\n'\n"
     ]
    },
    {
     "name": "stdout",
     "output_type": "stream",
     "text": [
      "Reading File:FinalRoll_ACNo_238PartNo_219.csv\n",
      "Reading File:FinalRoll_ACNo_238PartNo_220.csv\n",
      "Reading File:FinalRoll_ACNo_238PartNo_221.csv\n",
      "Reading File:FinalRoll_ACNo_238PartNo_222.csv\n",
      "Reading File:FinalRoll_ACNo_238PartNo_223.csv\n",
      "Reading File:FinalRoll_ACNo_238PartNo_224.csv\n"
     ]
    },
    {
     "name": "stderr",
     "output_type": "stream",
     "text": [
      "b'Skipping line 447: expected 24 fields, saw 25\\n'\n",
      "b'Skipping line 968: expected 24 fields, saw 26\\nSkipping line 1010: expected 24 fields, saw 26\\n'\n"
     ]
    },
    {
     "name": "stdout",
     "output_type": "stream",
     "text": [
      "Reading File:FinalRoll_ACNo_238PartNo_225.csv\n",
      "Reading File:FinalRoll_ACNo_238PartNo_226.csv\n",
      "Reading File:FinalRoll_ACNo_238PartNo_227.csv\n",
      "Reading File:FinalRoll_ACNo_238PartNo_228.csv\n",
      "Reading File:FinalRoll_ACNo_238PartNo_229.csv\n",
      "Reading File:FinalRoll_ACNo_238PartNo_230.csv\n",
      "Reading File:FinalRoll_ACNo_238PartNo_231.csv\n",
      "Reading File:FinalRoll_ACNo_238PartNo_232.csv\n",
      "Reading File:FinalRoll_ACNo_238PartNo_233.csv\n",
      "Reading File:FinalRoll_ACNo_238PartNo_234.csv\n",
      "Reading File:FinalRoll_ACNo_238PartNo_235.csv\n"
     ]
    },
    {
     "name": "stderr",
     "output_type": "stream",
     "text": [
      "b'Skipping line 175: expected 24 fields, saw 26\\n'\n",
      "b'Skipping line 593: expected 24 fields, saw 25\\nSkipping line 1011: expected 24 fields, saw 25\\n'\n"
     ]
    },
    {
     "name": "stdout",
     "output_type": "stream",
     "text": [
      "Reading File:FinalRoll_ACNo_238PartNo_236.csv\n",
      "Reading File:FinalRoll_ACNo_238PartNo_237.csv\n",
      "Reading File:FinalRoll_ACNo_238PartNo_238.csv\n",
      "Reading File:FinalRoll_ACNo_238PartNo_239.csv\n",
      "Reading File:FinalRoll_ACNo_238PartNo_240.csv\n",
      "Reading File:FinalRoll_ACNo_238PartNo_241.csv\n",
      "Reading File:FinalRoll_ACNo_238PartNo_242.csv\n",
      "Reading File:FinalRoll_ACNo_238PartNo_243.csv\n",
      "Reading File:FinalRoll_ACNo_238PartNo_244.csv\n",
      "Reading File:FinalRoll_ACNo_238PartNo_245.csv\n",
      "Reading File:FinalRoll_ACNo_238PartNo_246.csv\n"
     ]
    },
    {
     "name": "stderr",
     "output_type": "stream",
     "text": [
      "b'Skipping line 742: expected 24 fields, saw 25\\n'\n",
      "b'Skipping line 1075: expected 24 fields, saw 26\\n'\n"
     ]
    },
    {
     "name": "stdout",
     "output_type": "stream",
     "text": [
      "Reading File:FinalRoll_ACNo_238PartNo_247.csv\n",
      "Reading File:FinalRoll_ACNo_238PartNo_248.csv\n",
      "Reading File:FinalRoll_ACNo_238PartNo_249.csv\n",
      "Reading File:FinalRoll_ACNo_238PartNo_250.csv\n",
      "Reading File:FinalRoll_ACNo_238PartNo_251.csv\n",
      "Reading File:FinalRoll_ACNo_238PartNo_252.csv\n"
     ]
    },
    {
     "name": "stderr",
     "output_type": "stream",
     "text": [
      "b'Skipping line 748: expected 24 fields, saw 26\\n'\n"
     ]
    },
    {
     "name": "stdout",
     "output_type": "stream",
     "text": [
      "Reading File:FinalRoll_ACNo_238PartNo_253.csv\n",
      "Reading File:FinalRoll_ACNo_238PartNo_254.csv\n",
      "Reading File:FinalRoll_ACNo_238PartNo_255.csv\n",
      "Reading File:FinalRoll_ACNo_238PartNo_256.csv\n",
      "Reading File:FinalRoll_ACNo_238PartNo_257.csv\n",
      "Reading File:FinalRoll_ACNo_238PartNo_258.csv\n",
      "Reading File:FinalRoll_ACNo_238PartNo_259.csv\n",
      "Reading File:FinalRoll_ACNo_238PartNo_260.csv\n",
      "Reading File:FinalRoll_ACNo_238PartNo_261.csv\n",
      "Reading File:FinalRoll_ACNo_238PartNo_262.csv\n"
     ]
    },
    {
     "name": "stderr",
     "output_type": "stream",
     "text": [
      "b'Skipping line 768: expected 24 fields, saw 25\\nSkipping line 777: expected 24 fields, saw 25\\n'\n"
     ]
    },
    {
     "name": "stdout",
     "output_type": "stream",
     "text": [
      "Reading File:FinalRoll_ACNo_238PartNo_263.csv\n",
      "Reading File:FinalRoll_ACNo_238PartNo_264.csv\n",
      "Reading File:FinalRoll_ACNo_238PartNo_265.csv\n",
      "Reading File:FinalRoll_ACNo_238PartNo_266.csv\n",
      "Reading File:FinalRoll_ACNo_238PartNo_267.csv\n",
      "Reading File:FinalRoll_ACNo_238PartNo_268.csv\n"
     ]
    },
    {
     "name": "stderr",
     "output_type": "stream",
     "text": [
      "b'Skipping line 1161: expected 24 fields, saw 25\\n'\n"
     ]
    },
    {
     "name": "stdout",
     "output_type": "stream",
     "text": [
      "Reading File:FinalRoll_ACNo_238PartNo_269.csv\n",
      "Reading File:FinalRoll_ACNo_238PartNo_270.csv\n",
      "Reading File:FinalRoll_ACNo_238PartNo_271.csv\n",
      "Reading File:FinalRoll_ACNo_238PartNo_272.csv\n",
      "Reading File:FinalRoll_ACNo_238PartNo_273.csv\n",
      "Reading File:FinalRoll_ACNo_238PartNo_274.csv\n",
      "Reading File:FinalRoll_ACNo_238PartNo_275.csv\n",
      "Reading File:FinalRoll_ACNo_238PartNo_276.csv\n",
      "Reading File:FinalRoll_ACNo_238PartNo_277.csv\n",
      "Reading File:FinalRoll_ACNo_238PartNo_278.csv\n"
     ]
    },
    {
     "name": "stderr",
     "output_type": "stream",
     "text": [
      "b'Skipping line 1054: expected 24 fields, saw 25\\nSkipping line 1063: expected 24 fields, saw 25\\nSkipping line 1071: expected 24 fields, saw 26\\n'\n"
     ]
    },
    {
     "name": "stdout",
     "output_type": "stream",
     "text": [
      "Reading File:FinalRoll_ACNo_238PartNo_279.csv\n",
      "Reading File:FinalRoll_ACNo_238PartNo_280.csv\n",
      "Reading File:FinalRoll_ACNo_238PartNo_281.csv\n",
      "Reading File:FinalRoll_ACNo_238PartNo_282.csv\n",
      "Reading File:FinalRoll_ACNo_238PartNo_283.csv\n",
      "Reading File:FinalRoll_ACNo_238PartNo_284.csv\n"
     ]
    },
    {
     "name": "stderr",
     "output_type": "stream",
     "text": [
      "b'Skipping line 1018: expected 24 fields, saw 25\\n'\n",
      "b'Skipping line 49: expected 24 fields, saw 25\\n'\n"
     ]
    },
    {
     "name": "stdout",
     "output_type": "stream",
     "text": [
      "Reading File:FinalRoll_ACNo_238PartNo_285.csv\n",
      "Reading File:FinalRoll_ACNo_238PartNo_286.csv\n",
      "Reading File:FinalRoll_ACNo_238PartNo_287.csv\n",
      "Reading File:FinalRoll_ACNo_238PartNo_288.csv\n",
      "Reading File:FinalRoll_ACNo_238PartNo_289.csv\n",
      "Reading File:FinalRoll_ACNo_238PartNo_290.csv\n",
      "Reading File:FinalRoll_ACNo_238PartNo_291.csv\n",
      "Reading File:FinalRoll_ACNo_238PartNo_292.csv\n",
      "Reading File:FinalRoll_ACNo_238PartNo_293.csv\n",
      "Reading File:FinalRoll_ACNo_238PartNo_294.csv\n"
     ]
    },
    {
     "name": "stderr",
     "output_type": "stream",
     "text": [
      "b'Skipping line 319: expected 24 fields, saw 26\\n'\n",
      "b'Skipping line 816: expected 24 fields, saw 25\\nSkipping line 853: expected 24 fields, saw 25\\n'\n"
     ]
    },
    {
     "name": "stdout",
     "output_type": "stream",
     "text": [
      "Reading File:FinalRoll_ACNo_238PartNo_295.csv\n",
      "Reading File:FinalRoll_ACNo_238PartNo_296.csv\n",
      "Reading File:FinalRoll_ACNo_238PartNo_297.csv\n",
      "Reading File:FinalRoll_ACNo_238PartNo_298.csv\n",
      "Reading File:FinalRoll_ACNo_238PartNo_299.csv\n",
      "Reading File:FinalRoll_ACNo_238PartNo_300.csv\n"
     ]
    },
    {
     "name": "stderr",
     "output_type": "stream",
     "text": [
      "b'Skipping line 69: expected 24 fields, saw 25\\nSkipping line 621: expected 24 fields, saw 26\\nSkipping line 788: expected 24 fields, saw 25\\n'\n",
      "b'Skipping line 478: expected 24 fields, saw 25\\n'\n",
      "b'Skipping line 778: expected 24 fields, saw 25\\nSkipping line 818: expected 24 fields, saw 26\\n'\n",
      "b'Skipping line 714: expected 24 fields, saw 25\\n'\n"
     ]
    },
    {
     "name": "stdout",
     "output_type": "stream",
     "text": [
      "Reading File:FinalRoll_ACNo_238PartNo_301.csv\n",
      "Reading File:FinalRoll_ACNo_238PartNo_302.csv\n",
      "Reading File:FinalRoll_ACNo_238PartNo_303.csv\n",
      "Reading File:FinalRoll_ACNo_238PartNo_304.csv\n",
      "Reading File:FinalRoll_ACNo_238PartNo_305.csv\n"
     ]
    },
    {
     "name": "stderr",
     "output_type": "stream",
     "text": [
      "b'Skipping line 16: expected 24 fields, saw 25\\n'\n"
     ]
    },
    {
     "name": "stdout",
     "output_type": "stream",
     "text": [
      "Reading File:FinalRoll_ACNo_238PartNo_306.csv\n",
      "Reading File:FinalRoll_ACNo_238PartNo_307.csv\n",
      "Reading File:FinalRoll_ACNo_238PartNo_308.csv\n",
      "Reading File:FinalRoll_ACNo_238PartNo_309.csv\n",
      "Reading File:FinalRoll_ACNo_238PartNo_310.csv\n",
      "Reading File:FinalRoll_ACNo_238PartNo_311.csv\n"
     ]
    }
   ],
   "source": [
    "import os\n",
    "from google.cloud import storage\n",
    "import pandas\n",
    "import re\n",
    "import logging\n",
    "\n",
    "def get_names_order(filename):\n",
    "    return int(filename.split('.')[0].split('_')[3])\n",
    "\n",
    "def choose3(gender):\n",
    "    gender = gender.replace('\"','').replace('\"', '').replace('|', '').strip()\n",
    "    if(gender.startswith('पु')):\n",
    "        return 'M'\n",
    "    elif(gender.startswith('म')):\n",
    "        return 'F'\n",
    "    elif(gender.startswith('तृ')):\n",
    "        return 'T'\n",
    "    else:\n",
    "        return 'U'\n",
    "\n",
    "def cleanup(a):\n",
    "    if(isinstance(a, str)):\n",
    "        return ''.join(re.findall(r'\\d+\\.', a))\n",
    "    else:\n",
    "        return a\n",
    "    \n",
    "    \n",
    "if __name__ == '__main__':\n",
    "    storage_client = storage.Client.from_service_account_json('/home/vishalvivek8/key.json')\n",
    "    bucket = storage_client.bucket('raw_images_ocr')\n",
    "    blobs = bucket.list_blobs(prefix = 'outputs/')\n",
    "    cwd = os.getcwd()\n",
    "    \n",
    "    output_files = list()\n",
    "    \n",
    "    for blob in blobs:\n",
    "        if(blob.name == 'outputs/' or blob.name.startswith('outputs/AC')):\n",
    "            continue\n",
    "        output_files.append(blob.name.replace('outputs/', ''))\n",
    "    \n",
    "    output_files.sort(key = get_names_order)\n",
    "    \n",
    "    final_file = open('AC_CombinedFile.csv', 'w')\n",
    "    \n",
    "    counter = 1\n",
    "    \n",
    "    for file in output_files:\n",
    "        try:\n",
    "            blob = bucket.blob('outputs/'+file)\n",
    "            blob.download_to_filename(file)\n",
    "            print (\"Reading File:\" + file)\n",
    "            df = pandas.read_csv(file, header = 0, sep = ',', encoding = 'utf8', error_bad_lines = False)\n",
    "            \n",
    "            df.rename(columns={'Election Year':'El_Year', ' Assembly constituency':'State',\\\n",
    "                               ' AC No.':'AC_No', ' PC No.':'PC_No', ' Part No.':'Booth_No', \\\n",
    "                               ' \t\t\tERPD':'Creation_Date', ' Serial No.': 'Serial_No', \\\n",
    "                               ' \t\t\tVoter ID':'EPIC', ' Voter Name': 'Voter_Name', \\\n",
    "                               ' Fathers name':'Father_Name', ' Age': 'Age', ' Gender': 'Gender', \\\n",
    "                               ' House No.':'House_No', ' Address details':'Address', ' Voter Surname':'Surname'\n",
    "                              }, inplace = True)\n",
    "            \n",
    "           \n",
    "            #df.dropna(axis = 0, how ='any', inplace = True)\n",
    "            \n",
    "            df['El_Year'] = 2020\n",
    "            df['State'] = 'Bihar'\n",
    "            df['AC_No'] = re.search(r'\\d+',file.split('.')[0].split('_')[2]).group(0)\n",
    "            df['PC_No'] = 39\n",
    "            df['Booth_No'] = file.split('.')[0].split('_')[3]\n",
    "            df['Creation_Date'] = '2020-02-07'\n",
    "            df['Serial_No'] = df['Serial_No'].map(lambda a: \"\".join(re.findall(r'\\d+', str(a))), na_action='ignore')\n",
    "            df['EPIC'] = df['EPIC'].map(lambda a:a.replace('\"','').replace('\"', '').replace('।', '1').strip(), na_action='ignore')\n",
    "            df['Voter_Name'] = df['Voter_Name'].map(lambda a:a.replace('\"','').replace('\"', '').replace('।', '1').strip(), na_action='ignore')\n",
    "            df['Father_Name'] = df['Father_Name'].map(lambda a:a.replace('\"','').replace('\"', '').replace('।', '1').strip(), na_action='ignore')\n",
    "            #df['Age'] = df['Age'].map(cleanup, na_action='ignore') #only complicates matters\n",
    "            df['Gender'] = df['Gender'].map(choose3, na_action='ignore')\n",
    "            #df['House_No'] = df['House_No'].map(cleanup, na_action='ignore')\n",
    "            df['Address'] = df['Address'].map(lambda a:a.replace('\"','').replace('\"', '').replace('।', '1').strip(), na_action='ignore')\n",
    "            df['Surname'] = df['Surname'].map(lambda a:a.replace('\"','').replace('\"', '').replace('।', '1').strip(), na_action='ignore')\n",
    "            \n",
    "            df = df[['State', 'El_Year', 'PC_No', 'AC_No', 'Booth_No', 'Creation_Date', 'Serial_No', 'EPIC',\\\n",
    "                    'Voter_Name', 'Father_Name', 'Age', 'Gender', 'House_No', 'Address', 'Surname'\n",
    "                    ]]\n",
    "            \n",
    "            #print(df['Age'])\n",
    "            #df.dropna(axis = 0, how ='any', inplace = True) #no loose ends - condition very harsh, drops around 10% of electorate\n",
    "                        \n",
    "            df.to_csv(final_file, header = False, encoding = 'utf-8-sig', index = False)\n",
    "            final_file.flush()\n",
    "            \n",
    "        except pandas.errors.ParserError as e:\n",
    "            error_line = str(e)\n",
    "            i = int(re.findall(r'\\d+', error_line)[0])\n",
    "            if(i <= len(df.index)):  \n",
    "                df.drop(df.index[i])\n",
    "\n",
    "            df.to_csv(final_file, header = False, encoding = 'utf-8-sig', index = False)\n",
    "            final_file.flush()\n",
    "            \n",
    "        except Exception as e:\n",
    "            print('Missed reading file '+file+' because of error:' + str(e))\n",
    "            logging.exception(\"message\")\n",
    "            \n",
    "        finally:\n",
    "            os.remove(file)\n",
    "        \n",
    "    final_file.close()\n",
    "    \n",
    "    save_blob = bucket.blob('outputs/AC_CombinedFile.csv')\n",
    "    save_blob.upload_from_filename('AC_CombinedFile.csv')"
   ]
  },
  {
   "cell_type": "code",
   "execution_count": null,
   "metadata": {},
   "outputs": [],
   "source": []
  }
 ],
 "metadata": {
  "kernelspec": {
   "display_name": "python36",
   "language": "python",
   "name": "python36"
  },
  "language_info": {
   "codemirror_mode": {
    "name": "ipython",
    "version": 3
   },
   "file_extension": ".py",
   "mimetype": "text/x-python",
   "name": "python",
   "nbconvert_exporter": "python",
   "pygments_lexer": "ipython3",
   "version": "3.6.10"
  }
 },
 "nbformat": 4,
 "nbformat_minor": 4
}
